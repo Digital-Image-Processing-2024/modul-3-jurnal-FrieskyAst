{
 "cells": [
  {
   "cell_type": "code",
   "execution_count": 2,
   "metadata": {},
   "outputs": [],
   "source": [
    "import matplotlib.pyplot as plt\n",
    "import numpy as np\n",
    "import pandas as pd\n",
    "import cv2 as cv"
   ]
  },
  {
   "cell_type": "code",
   "execution_count": 5,
   "metadata": {},
   "outputs": [],
   "source": [
    "appro = plt.imread('IoriYagami.jpg')\n",
    "appro = cv.cvtColor(appro,cv.COLOR_BGR2GRAY)\n",
    "\n",
    "horizon = plt.imread('IoriYagami.jpg')\n",
    "horizon = cv.cvtColor(horizon,cv.COLOR_BGR2GRAY)\n",
    "\n",
    "verti = plt.imread('IoriYagami.jpg')\n",
    "verti = cv.cvtColor(verti,cv.COLOR_BGR2GRAY)\n",
    "\n",
    "diagon = plt.imread('IoriYagami.jpg')\n",
    "diagon = cv.cvtColor(diagon,cv.COLOR_BGR2GRAY)\n",
    "\n"
   ]
  },
  {
   "cell_type": "code",
   "execution_count": 4,
   "metadata": {},
   "outputs": [],
   "source": [
    "lowpass1 = np.array([0.5, 0.5])\n",
    "highpass1 = np.array([-0.5, 0.5])\n",
    "\n",
    "lowpass2 = np.array([0.7, 0.7])\n",
    "highpass2 = np.array([-0.7, 0.7])"
   ]
  },
  {
   "cell_type": "code",
   "execution_count": 6,
   "metadata": {},
   "outputs": [],
   "source": [
    "def konvolusiBaris(citra, kernel):\n",
    "    padd = np.pad(citra, ((0,0),(0,1)), 'constant', constant_values=0)\n",
    "    result = np.zeros(citra.shape).astype(int)\n",
    "    for i in range(citra.shape[0]):\n",
    "        for j in range(citra.shape[1]):\n",
    "            for x in range(len(kernel)):\n",
    "                result[i,j] += padd[i,j+x] * kernel[x]\n",
    "    return result\n",
    "\n",
    "def konvolusiKolom(citra, kernel):\n",
    "    padd = np.padd(citra, ((0,1), (0,0)), 'constant', constant_values = 0)\n",
    "    result = np.zeros(citra.shape).astype(int)\n",
    "    for i in range(citra.shap[0]):\n",
    "        sum = 0\n",
    "        for j in range (citra.shape[1]):\n",
    "            for x in range(len(kernel)):\n",
    "                result[i,j] += padd[i+x, j] * kernel[x]\n",
    "    return result\n",
    "    "
   ]
  },
  {
   "cell_type": "code",
   "execution_count": null,
   "metadata": {},
   "outputs": [],
   "source": [
    "def upSamplingBaris"
   ]
  }
 ],
 "metadata": {
  "kernelspec": {
   "display_name": "Python 3",
   "language": "python",
   "name": "python3"
  },
  "language_info": {
   "codemirror_mode": {
    "name": "ipython",
    "version": 3
   },
   "file_extension": ".py",
   "mimetype": "text/x-python",
   "name": "python",
   "nbconvert_exporter": "python",
   "pygments_lexer": "ipython3",
   "version": "3.12.2"
  }
 },
 "nbformat": 4,
 "nbformat_minor": 2
}
